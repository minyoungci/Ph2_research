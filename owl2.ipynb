{
 "cells": [
  {
   "cell_type": "code",
   "execution_count": 1,
   "metadata": {},
   "outputs": [
    {
     "name": "stderr",
     "output_type": "stream",
     "text": [
      "* Owlready2 * Running Pellet...\n",
      "    java -Xmx2000M -cp /home/min/anaconda3/envs/ph2/lib/python3.12/site-packages/owlready2/pellet/owlapi-distribution-3.4.3-bin.jar:/home/min/anaconda3/envs/ph2/lib/python3.12/site-packages/owlready2/pellet/log4j-1.2-api-2.19.0.jar:/home/min/anaconda3/envs/ph2/lib/python3.12/site-packages/owlready2/pellet/xml-apis-1.4.01.jar:/home/min/anaconda3/envs/ph2/lib/python3.12/site-packages/owlready2/pellet/jena-arq-2.10.0.jar:/home/min/anaconda3/envs/ph2/lib/python3.12/site-packages/owlready2/pellet/jcl-over-slf4j-1.6.4.jar:/home/min/anaconda3/envs/ph2/lib/python3.12/site-packages/owlready2/pellet/antlr-runtime-3.2.jar:/home/min/anaconda3/envs/ph2/lib/python3.12/site-packages/owlready2/pellet/httpclient-4.2.3.jar:/home/min/anaconda3/envs/ph2/lib/python3.12/site-packages/owlready2/pellet/jgrapht-jdk1.5.jar:/home/min/anaconda3/envs/ph2/lib/python3.12/site-packages/owlready2/pellet/jena-iri-0.9.5.jar:/home/min/anaconda3/envs/ph2/lib/python3.12/site-packages/owlready2/pellet/log4j-api-2.19.0.jar:/home/min/anaconda3/envs/ph2/lib/python3.12/site-packages/owlready2/pellet/commons-codec-1.6.jar:/home/min/anaconda3/envs/ph2/lib/python3.12/site-packages/owlready2/pellet/xercesImpl-2.10.0.jar:/home/min/anaconda3/envs/ph2/lib/python3.12/site-packages/owlready2/pellet/aterm-java-1.6.jar:/home/min/anaconda3/envs/ph2/lib/python3.12/site-packages/owlready2/pellet/slf4j-api-1.6.4.jar:/home/min/anaconda3/envs/ph2/lib/python3.12/site-packages/owlready2/pellet/antlr-3.2.jar:/home/min/anaconda3/envs/ph2/lib/python3.12/site-packages/owlready2/pellet/jena-core-2.10.0.jar:/home/min/anaconda3/envs/ph2/lib/python3.12/site-packages/owlready2/pellet/jena-tdb-0.10.0.jar:/home/min/anaconda3/envs/ph2/lib/python3.12/site-packages/owlready2/pellet/log4j-core-2.19.0.jar:/home/min/anaconda3/envs/ph2/lib/python3.12/site-packages/owlready2/pellet/httpcore-4.2.2.jar:/home/min/anaconda3/envs/ph2/lib/python3.12/site-packages/owlready2/pellet/pellet-2.3.1.jar:/home/min/anaconda3/envs/ph2/lib/python3.12/site-packages/owlready2/pellet/slf4j-log4j12-1.6.4.jar pellet.Pellet realize --loader Jena --input-format N-Triples --ignore-imports /tmp/tmp1hq5cop0\n",
      "* Owlready2 * Pellet took 0.6563732624053955 seconds\n",
      "* Owlready * (NB: only changes on entities loaded in Python are shown, other changes are done but not listed)\n"
     ]
    }
   ],
   "source": [
    "from owlready2 import sync_reasoner_pellet\n",
    "sync_reasoner_pellet(debug=True)"
   ]
  },
  {
   "cell_type": "code",
   "execution_count": 2,
   "metadata": {},
   "outputs": [
    {
     "ename": "NameError",
     "evalue": "name 'onto' is not defined",
     "output_type": "error",
     "traceback": [
      "\u001b[0;31m---------------------------------------------------------------------------\u001b[0m",
      "\u001b[0;31mNameError\u001b[0m                                 Traceback (most recent call last)",
      "Cell \u001b[0;32mIn[2], line 1\u001b[0m\n\u001b[0;32m----> 1\u001b[0m \u001b[38;5;28;01mfor\u001b[39;00m individual \u001b[38;5;129;01min\u001b[39;00m onto\u001b[38;5;241m.\u001b[39mindividuals():\n\u001b[1;32m      2\u001b[0m     \u001b[38;5;28mprint\u001b[39m(\u001b[38;5;124mf\u001b[39m\u001b[38;5;124m\"\u001b[39m\u001b[38;5;132;01m{\u001b[39;00mindividual\u001b[38;5;132;01m}\u001b[39;00m\u001b[38;5;124m is_a:\u001b[39m\u001b[38;5;124m\"\u001b[39m)\n\u001b[1;32m      3\u001b[0m     \u001b[38;5;28;01mfor\u001b[39;00m \u001b[38;5;28mcls\u001b[39m \u001b[38;5;129;01min\u001b[39;00m individual\u001b[38;5;241m.\u001b[39mis_a:\n",
      "\u001b[0;31mNameError\u001b[0m: name 'onto' is not defined"
     ]
    }
   ],
   "source": [
    "for individual in onto.individuals():\n",
    "    print(f\"{individual} is_a:\")\n",
    "    for cls in individual.is_a:\n",
    "        print(\"   \", cls)"
   ]
  },
  {
   "cell_type": "code",
   "execution_count": 3,
   "metadata": {},
   "outputs": [
    {
     "ename": "NameError",
     "evalue": "name 'onto' is not defined",
     "output_type": "error",
     "traceback": [
      "\u001b[0;31m---------------------------------------------------------------------------\u001b[0m",
      "\u001b[0;31mNameError\u001b[0m                                 Traceback (most recent call last)",
      "Cell \u001b[0;32mIn[3], line 1\u001b[0m\n\u001b[0;32m----> 1\u001b[0m \u001b[38;5;28;01mfor\u001b[39;00m individual \u001b[38;5;129;01min\u001b[39;00m onto\u001b[38;5;241m.\u001b[39mindividuals():\n\u001b[1;32m      2\u001b[0m     \u001b[38;5;66;03m# 예시: hasDiagnosis 라는 속성이 추론되었는지 확인\u001b[39;00m\n\u001b[1;32m      3\u001b[0m     \u001b[38;5;28;01mif\u001b[39;00m \u001b[38;5;28mhasattr\u001b[39m(individual, \u001b[38;5;124m\"\u001b[39m\u001b[38;5;124mhasDiagnosis\u001b[39m\u001b[38;5;124m\"\u001b[39m):\n\u001b[1;32m      4\u001b[0m         \u001b[38;5;28mprint\u001b[39m(\u001b[38;5;124mf\u001b[39m\u001b[38;5;124m\"\u001b[39m\u001b[38;5;132;01m{\u001b[39;00mindividual\u001b[38;5;132;01m}\u001b[39;00m\u001b[38;5;124m hasDiagnosis: \u001b[39m\u001b[38;5;132;01m{\u001b[39;00mindividual\u001b[38;5;241m.\u001b[39mhasDiagnosis\u001b[38;5;132;01m}\u001b[39;00m\u001b[38;5;124m\"\u001b[39m)\n",
      "\u001b[0;31mNameError\u001b[0m: name 'onto' is not defined"
     ]
    }
   ],
   "source": [
    "for individual in onto.individuals():\n",
    "    # 예시: hasDiagnosis 라는 속성이 추론되었는지 확인\n",
    "    if hasattr(individual, \"hasDiagnosis\"):\n",
    "        print(f\"{individual} hasDiagnosis: {individual.hasDiagnosis}\")"
   ]
  },
  {
   "cell_type": "code",
   "execution_count": 7,
   "metadata": {},
   "outputs": [
    {
     "name": "stdout",
     "output_type": "stream",
     "text": [
      "Collecting graphviz\n",
      "  Downloading graphviz-0.20.3-py3-none-any.whl.metadata (12 kB)\n",
      "Downloading graphviz-0.20.3-py3-none-any.whl (47 kB)\n",
      "Installing collected packages: graphviz\n",
      "Successfully installed graphviz-0.20.3\n"
     ]
    }
   ],
   "source": [
    "!pip install graphviz"
   ]
  },
  {
   "cell_type": "code",
   "execution_count": null,
   "metadata": {},
   "outputs": [
    {
     "data": {
      "text/plain": [
       "'ontology_structure.png'"
      ]
     },
     "execution_count": 1,
     "metadata": {},
     "output_type": "execute_result"
    },
    {
     "name": "stderr",
     "output_type": "stream",
     "text": [
      "\n",
      "(eog:268501): dconf-WARNING **: 19:16:43.887: failed to commit changes to dconf: Could not connect: Connection refused\n",
      "\n",
      "(eog:268501): dconf-WARNING **: 19:16:43.887: failed to commit changes to dconf: Could not connect: Connection refused\n",
      "\n",
      "(eog:268501): EOG-WARNING **: 19:16:43.900: Couldn't load icon: Icon 'image-loading' not present in theme Adwaita\n"
     ]
    }
   ],
   "source": [
    "from owlready2 import get_ontology\n",
    "import graphviz\n",
    "\n",
    "onto = get_ontology(\"PH2_ontology_with_individuals.owl\").load()\n",
    "\n",
    "dot = graphviz.Digraph(comment=\"Ontology Structure\", format='png')\n",
    "\n",
    "for cls in onto.classes():\n",
    "    dot.node(str(cls), cls.name)\n",
    "    for parent in cls.is_a:\n",
    "        if hasattr(parent, \"name\"):\n",
    "            dot.edge(parent.name, cls.name)\n",
    "\n",
    "dot.render('ontology_structure', view=True)"
   ]
  },
  {
   "cell_type": "code",
   "execution_count": null,
   "metadata": {},
   "outputs": [],
   "source": []
  }
 ],
 "metadata": {
  "kernelspec": {
   "display_name": "ph2",
   "language": "python",
   "name": "python3"
  },
  "language_info": {
   "codemirror_mode": {
    "name": "ipython",
    "version": 3
   },
   "file_extension": ".py",
   "mimetype": "text/x-python",
   "name": "python",
   "nbconvert_exporter": "python",
   "pygments_lexer": "ipython3",
   "version": "3.12.8"
  }
 },
 "nbformat": 4,
 "nbformat_minor": 2
}
