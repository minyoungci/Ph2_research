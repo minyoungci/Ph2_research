{
 "cells": [
  {
   "cell_type": "code",
   "execution_count": null,
   "metadata": {},
   "outputs": [],
   "source": [
    "import pandas as pd\n",
    "\n",
    "df = pd.read_csv(\"Ph2_dataset_2.csv\", header=1)\n",
    "\n",
    "def assign_label(row):\n",
    "    if row[\"Common Nevus\"] == \"X\":\n",
    "        return 0  \n",
    "    elif row[\"Atypical Nevus\"] == \"X\":\n",
    "        return 1 \n",
    "    elif row[\"Melanoma\"] == \"X\":\n",
    "        return 2  \n",
    "    else:\n",
    "        return -1 \n",
    "\n",
    "df[\"label\"] = df.apply(assign_label, axis=1)\n",
    "\n",
    "print(df[\"label\"].value_counts())"
   ]
  },
  {
   "cell_type": "code",
   "execution_count": null,
   "metadata": {},
   "outputs": [],
   "source": []
  }
 ],
 "metadata": {
  "kernelspec": {
   "display_name": "ph2",
   "language": "python",
   "name": "python3"
  },
  "language_info": {
   "name": "python",
   "version": "3.12.8"
  }
 },
 "nbformat": 4,
 "nbformat_minor": 2
}
